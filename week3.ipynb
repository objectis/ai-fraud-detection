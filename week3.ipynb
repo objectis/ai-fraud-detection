{
  "nbformat": 4,
  "nbformat_minor": 0,
  "metadata": {
    "colab": {
      "name": "week3.ipynb",
      "version": "0.3.2",
      "provenance": [],
      "toc_visible": true,
      "include_colab_link": true
    },
    "kernelspec": {
      "name": "python3",
      "display_name": "Python 3"
    }
  },
  "cells": [
    {
      "cell_type": "markdown",
      "metadata": {
        "id": "view-in-github",
        "colab_type": "text"
      },
      "source": [
        "<a href=\"https://colab.research.google.com/github/objectis/ai-fraud-detection/blob/master/week3.ipynb\" target=\"_parent\"><img src=\"https://colab.research.google.com/assets/colab-badge.svg\" alt=\"Open In Colab\"/></a>"
      ]
    },
    {
      "cell_type": "markdown",
      "metadata": {
        "id": "LIV0QyxBFF6w",
        "colab_type": "text"
      },
      "source": [
        "This is a project for credit card fraud detection using logistic regression model with Scikit-learn."
      ]
    },
    {
      "cell_type": "markdown",
      "metadata": {
        "id": "VM2sN6WGFY3d",
        "colab_type": "text"
      },
      "source": [
        "# Imports"
      ]
    },
    {
      "cell_type": "code",
      "metadata": {
        "id": "nHX6Y-BpFdhU",
        "colab_type": "code",
        "colab": {}
      },
      "source": [
        "import numpy as np\n",
        "import sklearn as sk\n",
        "import pandas as pd\n",
        "import seaborn"
      ],
      "execution_count": 0,
      "outputs": []
    },
    {
      "cell_type": "markdown",
      "metadata": {
        "id": "dFa09ePXRSDP",
        "colab_type": "text"
      },
      "source": [
        "# Reading data"
      ]
    },
    {
      "cell_type": "code",
      "metadata": {
        "id": "8pg1McZmRQ3O",
        "colab_type": "code",
        "colab": {}
      },
      "source": [
        "ti=pd.read_csv('sample_data/train_identity.csv',low_memory=False)\n",
        "tt=pd.read_csv('sample_data/train_transaction.csv',low_memory=False)"
      ],
      "execution_count": 0,
      "outputs": []
    },
    {
      "cell_type": "markdown",
      "metadata": {
        "id": "n2ZxMvApzTFs",
        "colab_type": "text"
      },
      "source": [
        "#Analysing"
      ]
    },
    {
      "cell_type": "code",
      "metadata": {
        "id": "5wYmE0oRxz6t",
        "colab_type": "code",
        "colab": {
          "base_uri": "https://localhost:8080/",
          "height": 34
        },
        "outputId": "9d230c23-59c0-4c3d-bb87-67595e580305"
      },
      "source": [
        "ti.shape"
      ],
      "execution_count": 49,
      "outputs": [
        {
          "output_type": "execute_result",
          "data": {
            "text/plain": [
              "(144233, 41)"
            ]
          },
          "metadata": {
            "tags": []
          },
          "execution_count": 49
        }
      ]
    },
    {
      "cell_type": "code",
      "metadata": {
        "id": "NwaLvBiscqN9",
        "colab_type": "code",
        "outputId": "6c5a65db-178f-4c9c-b7b6-5241514010eb",
        "colab": {
          "base_uri": "https://localhost:8080/",
          "height": 34
        }
      },
      "source": [
        "tt.shape"
      ],
      "execution_count": 50,
      "outputs": [
        {
          "output_type": "execute_result",
          "data": {
            "text/plain": [
              "(590540, 394)"
            ]
          },
          "metadata": {
            "tags": []
          },
          "execution_count": 50
        }
      ]
    },
    {
      "cell_type": "markdown",
      "metadata": {
        "id": "fENaOjOdcuYw",
        "colab_type": "text"
      },
      "source": [
        "Joining 2 datasets into 1\n",
        "\n"
      ]
    },
    {
      "cell_type": "code",
      "metadata": {
        "id": "p47NYqnwdEfE",
        "colab_type": "code",
        "colab": {}
      },
      "source": [
        "tf = pd.merge(tt, ti, on = 'TransactionID',how='left')"
      ],
      "execution_count": 0,
      "outputs": []
    },
    {
      "cell_type": "code",
      "metadata": {
        "id": "gr1L6q4ZyIp_",
        "colab_type": "code",
        "colab": {
          "base_uri": "https://localhost:8080/",
          "height": 34
        },
        "outputId": "271f8d7e-b954-42b1-feb5-5b8f7520e130"
      },
      "source": [
        "tf.shape"
      ],
      "execution_count": 52,
      "outputs": [
        {
          "output_type": "execute_result",
          "data": {
            "text/plain": [
              "(590540, 434)"
            ]
          },
          "metadata": {
            "tags": []
          },
          "execution_count": 52
        }
      ]
    },
    {
      "cell_type": "markdown",
      "metadata": {
        "id": "35bMVvkpqwV6",
        "colab_type": "text"
      },
      "source": [
        "Let's visualise how much data we are missing"
      ]
    },
    {
      "cell_type": "code",
      "metadata": {
        "id": "s8dVpcsXqzpx",
        "colab_type": "code",
        "outputId": "1f146a2f-c401-4ddd-cf96-7313f4847425",
        "colab": {
          "base_uri": "https://localhost:8080/",
          "height": 353
        }
      },
      "source": [
        "tf_cat = tf.filter(regex='id|card|ProductCD|addr|email|M|DeviceType|DeviceInfo')\n",
        "seaborn.heatmap(tf_cat.isnull(), cbar= False)"
      ],
      "execution_count": 0,
      "outputs": [
        {
          "output_type": "execute_result",
          "data": {
            "text/plain": [
              "<matplotlib.axes._subplots.AxesSubplot at 0x7f2b1bcd1080>"
            ]
          },
          "metadata": {
            "tags": []
          },
          "execution_count": 25
        },
        {
          "output_type": "display_data",
          "data": {
            "image/png": "[encoded data removed]",
            "text/plain": [
              "<Figure size 432x288 with 1 Axes>"
            ]
          },
          "metadata": {
            "tags": []
          }
        }
      ]
    },
    {
      "cell_type": "markdown",
      "metadata": {
        "id": "sUU9ehidrXYN",
        "colab_type": "text"
      },
      "source": [
        "How many fraud transactions vs non-fraud"
      ]
    },
    {
      "cell_type": "code",
      "metadata": {
        "id": "oED2G1-HrepX",
        "colab_type": "code",
        "outputId": "f581afa9-eca5-4e28-b5c9-884114630c28",
        "colab": {
          "base_uri": "https://localhost:8080/",
          "height": 68
        }
      },
      "source": [
        "fraud = len(tf[tf['isFraud'] == 1])\n",
        "nonfraud = len(tf[tf['isFraud'] == 0])\n",
        "print('Number of fraud transactions: ', fraud)\n",
        "print('Number of non-fraud transactions: ', nonfraud)\n",
        "print('Percent of fraud:',fraud*100/nonfraud)\n"
      ],
      "execution_count": 38,
      "outputs": [
        {
          "output_type": "stream",
          "text": [
            "Number of fraud transactions:  11779\n",
            "Number of non-fraud transactions:  336063\n",
            "Percent of fraud: 3.504997574859476\n"
          ],
          "name": "stdout"
        }
      ]
    },
    {
      "cell_type": "markdown",
      "metadata": {
        "id": "cfHrfXvQ27LF",
        "colab_type": "text"
      },
      "source": [
        "#Fintering N/A's"
      ]
    },
    {
      "cell_type": "markdown",
      "metadata": {
        "id": "yYrdY4nJ5x5Z",
        "colab_type": "text"
      },
      "source": [
        "limit of N/A inside a column that we do not tolerate (drop all columns that have more N/As than this percent)"
      ]
    },
    {
      "cell_type": "code",
      "metadata": {
        "id": "XmZY6Wia5r8l",
        "colab_type": "code",
        "colab": {}
      },
      "source": [
        "limit = 0.25"
      ],
      "execution_count": 0,
      "outputs": []
    },
    {
      "cell_type": "code",
      "metadata": {
        "id": "LH6L0CeQ6CER",
        "colab_type": "code",
        "colab": {
          "base_uri": "https://localhost:8080/",
          "height": 34
        },
        "outputId": "2d83aa22-c30a-43c3-a5aa-66650a67d854"
      },
      "source": [
        "def_columns = pd.DataFrame({'na_count':tf.isnull().sum().sort_values(ascending=False)})\n",
        "def_columns['percent'] = def_columns['na_count']/len(tf)\n",
        "columnsf = def_columns[def_columns['percent'] < limit].index\n",
        "\n",
        "tff = tf[tf.columns.intersection(columnsf)]\n",
        "tff.shape"
      ],
      "execution_count": 41,
      "outputs": [
        {
          "output_type": "execute_result",
          "data": {
            "text/plain": [
              "(347842, 182)"
            ]
          },
          "metadata": {
            "tags": []
          },
          "execution_count": 41
        }
      ]
    },
    {
      "cell_type": "markdown",
      "metadata": {
        "id": "67ZCW_fs74s4",
        "colab_type": "text"
      },
      "source": [
        "#Categorical values"
      ]
    },
    {
      "cell_type": "code",
      "metadata": {
        "id": "XuxgjWrD8SNl",
        "colab_type": "code",
        "colab": {
          "base_uri": "https://localhost:8080/",
          "height": 1000
        },
        "outputId": "4adf83a2-768f-4a27-ab51-ccad76db4e4e"
      },
      "source": [
        "tff[tff.select_dtypes(include=['object']).columns]"
      ],
      "execution_count": 42,
      "outputs": [
        {
          "output_type": "execute_result",
          "data": {
            "text/html": [
              "<div>\n",
              "<style scoped>\n",
              "    .dataframe tbody tr th:only-of-type {\n",
              "        vertical-align: middle;\n",
              "    }\n",
              "\n",
              "    .dataframe tbody tr th {\n",
              "        vertical-align: top;\n",
              "    }\n",
              "\n",
              "    .dataframe thead th {\n",
              "        text-align: right;\n",
              "    }\n",
              "</style>\n",
              "<table border=\"1\" class=\"dataframe\">\n",
              "  <thead>\n",
              "    <tr style=\"text-align: right;\">\n",
              "      <th></th>\n",
              "      <th>ProductCD</th>\n",
              "      <th>card4</th>\n",
              "      <th>card6</th>\n",
              "      <th>P_emaildomain</th>\n",
              "    </tr>\n",
              "  </thead>\n",
              "  <tbody>\n",
              "    <tr>\n",
              "      <th>0</th>\n",
              "      <td>W</td>\n",
              "      <td>discover</td>\n",
              "      <td>credit</td>\n",
              "      <td>NaN</td>\n",
              "    </tr>\n",
              "    <tr>\n",
              "      <th>1</th>\n",
              "      <td>W</td>\n",
              "      <td>mastercard</td>\n",
              "      <td>credit</td>\n",
              "      <td>gmail.com</td>\n",
              "    </tr>\n",
              "    <tr>\n",
              "      <th>2</th>\n",
              "      <td>W</td>\n",
              "      <td>visa</td>\n",
              "      <td>debit</td>\n",
              "      <td>outlook.com</td>\n",
              "    </tr>\n",
              "    <tr>\n",
              "      <th>3</th>\n",
              "      <td>W</td>\n",
              "      <td>mastercard</td>\n",
              "      <td>debit</td>\n",
              "      <td>yahoo.com</td>\n",
              "    </tr>\n",
              "    <tr>\n",
              "      <th>4</th>\n",
              "      <td>H</td>\n",
              "      <td>mastercard</td>\n",
              "      <td>credit</td>\n",
              "      <td>gmail.com</td>\n",
              "    </tr>\n",
              "    <tr>\n",
              "      <th>5</th>\n",
              "      <td>W</td>\n",
              "      <td>visa</td>\n",
              "      <td>debit</td>\n",
              "      <td>gmail.com</td>\n",
              "    </tr>\n",
              "    <tr>\n",
              "      <th>6</th>\n",
              "      <td>W</td>\n",
              "      <td>visa</td>\n",
              "      <td>debit</td>\n",
              "      <td>yahoo.com</td>\n",
              "    </tr>\n",
              "    <tr>\n",
              "      <th>7</th>\n",
              "      <td>W</td>\n",
              "      <td>visa</td>\n",
              "      <td>debit</td>\n",
              "      <td>mail.com</td>\n",
              "    </tr>\n",
              "    <tr>\n",
              "      <th>8</th>\n",
              "      <td>H</td>\n",
              "      <td>visa</td>\n",
              "      <td>debit</td>\n",
              "      <td>anonymous.com</td>\n",
              "    </tr>\n",
              "    <tr>\n",
              "      <th>9</th>\n",
              "      <td>W</td>\n",
              "      <td>mastercard</td>\n",
              "      <td>debit</td>\n",
              "      <td>yahoo.com</td>\n",
              "    </tr>\n",
              "    <tr>\n",
              "      <th>10</th>\n",
              "      <td>C</td>\n",
              "      <td>mastercard</td>\n",
              "      <td>credit</td>\n",
              "      <td>gmail.com</td>\n",
              "    </tr>\n",
              "    <tr>\n",
              "      <th>11</th>\n",
              "      <td>C</td>\n",
              "      <td>mastercard</td>\n",
              "      <td>debit</td>\n",
              "      <td>hotmail.com</td>\n",
              "    </tr>\n",
              "    <tr>\n",
              "      <th>12</th>\n",
              "      <td>W</td>\n",
              "      <td>visa</td>\n",
              "      <td>debit</td>\n",
              "      <td>verizon.net</td>\n",
              "    </tr>\n",
              "    <tr>\n",
              "      <th>13</th>\n",
              "      <td>W</td>\n",
              "      <td>visa</td>\n",
              "      <td>debit</td>\n",
              "      <td>aol.com</td>\n",
              "    </tr>\n",
              "    <tr>\n",
              "      <th>14</th>\n",
              "      <td>W</td>\n",
              "      <td>visa</td>\n",
              "      <td>debit</td>\n",
              "      <td>yahoo.com</td>\n",
              "    </tr>\n",
              "    <tr>\n",
              "      <th>15</th>\n",
              "      <td>W</td>\n",
              "      <td>visa</td>\n",
              "      <td>debit</td>\n",
              "      <td>NaN</td>\n",
              "    </tr>\n",
              "    <tr>\n",
              "      <th>16</th>\n",
              "      <td>H</td>\n",
              "      <td>visa</td>\n",
              "      <td>debit</td>\n",
              "      <td>aol.com</td>\n",
              "    </tr>\n",
              "    <tr>\n",
              "      <th>17</th>\n",
              "      <td>H</td>\n",
              "      <td>mastercard</td>\n",
              "      <td>credit</td>\n",
              "      <td>yahoo.com</td>\n",
              "    </tr>\n",
              "    <tr>\n",
              "      <th>18</th>\n",
              "      <td>W</td>\n",
              "      <td>visa</td>\n",
              "      <td>debit</td>\n",
              "      <td>gmail.com</td>\n",
              "    </tr>\n",
              "    <tr>\n",
              "      <th>19</th>\n",
              "      <td>W</td>\n",
              "      <td>visa</td>\n",
              "      <td>debit</td>\n",
              "      <td>gmail.com</td>\n",
              "    </tr>\n",
              "    <tr>\n",
              "      <th>20</th>\n",
              "      <td>W</td>\n",
              "      <td>mastercard</td>\n",
              "      <td>debit</td>\n",
              "      <td>gmail.com</td>\n",
              "    </tr>\n",
              "    <tr>\n",
              "      <th>21</th>\n",
              "      <td>W</td>\n",
              "      <td>mastercard</td>\n",
              "      <td>debit</td>\n",
              "      <td>gmail.com</td>\n",
              "    </tr>\n",
              "    <tr>\n",
              "      <th>22</th>\n",
              "      <td>H</td>\n",
              "      <td>visa</td>\n",
              "      <td>credit</td>\n",
              "      <td>gmail.com</td>\n",
              "    </tr>\n",
              "    <tr>\n",
              "      <th>23</th>\n",
              "      <td>W</td>\n",
              "      <td>mastercard</td>\n",
              "      <td>debit</td>\n",
              "      <td>gmail.com</td>\n",
              "    </tr>\n",
              "    <tr>\n",
              "      <th>24</th>\n",
              "      <td>W</td>\n",
              "      <td>visa</td>\n",
              "      <td>debit</td>\n",
              "      <td>gmail.com</td>\n",
              "    </tr>\n",
              "    <tr>\n",
              "      <th>25</th>\n",
              "      <td>W</td>\n",
              "      <td>mastercard</td>\n",
              "      <td>debit</td>\n",
              "      <td>gmail.com</td>\n",
              "    </tr>\n",
              "    <tr>\n",
              "      <th>26</th>\n",
              "      <td>W</td>\n",
              "      <td>visa</td>\n",
              "      <td>debit</td>\n",
              "      <td>me.com</td>\n",
              "    </tr>\n",
              "    <tr>\n",
              "      <th>27</th>\n",
              "      <td>W</td>\n",
              "      <td>visa</td>\n",
              "      <td>debit</td>\n",
              "      <td>yahoo.com</td>\n",
              "    </tr>\n",
              "    <tr>\n",
              "      <th>28</th>\n",
              "      <td>W</td>\n",
              "      <td>mastercard</td>\n",
              "      <td>debit</td>\n",
              "      <td>NaN</td>\n",
              "    </tr>\n",
              "    <tr>\n",
              "      <th>29</th>\n",
              "      <td>W</td>\n",
              "      <td>visa</td>\n",
              "      <td>debit</td>\n",
              "      <td>gmail.com</td>\n",
              "    </tr>\n",
              "    <tr>\n",
              "      <th>...</th>\n",
              "      <td>...</td>\n",
              "      <td>...</td>\n",
              "      <td>...</td>\n",
              "      <td>...</td>\n",
              "    </tr>\n",
              "    <tr>\n",
              "      <th>347812</th>\n",
              "      <td>W</td>\n",
              "      <td>visa</td>\n",
              "      <td>credit</td>\n",
              "      <td>yahoo.com</td>\n",
              "    </tr>\n",
              "    <tr>\n",
              "      <th>347813</th>\n",
              "      <td>C</td>\n",
              "      <td>visa</td>\n",
              "      <td>credit</td>\n",
              "      <td>NaN</td>\n",
              "    </tr>\n",
              "    <tr>\n",
              "      <th>347814</th>\n",
              "      <td>W</td>\n",
              "      <td>mastercard</td>\n",
              "      <td>debit</td>\n",
              "      <td>gmail.com</td>\n",
              "    </tr>\n",
              "    <tr>\n",
              "      <th>347815</th>\n",
              "      <td>W</td>\n",
              "      <td>mastercard</td>\n",
              "      <td>debit</td>\n",
              "      <td>gmail.com</td>\n",
              "    </tr>\n",
              "    <tr>\n",
              "      <th>347816</th>\n",
              "      <td>W</td>\n",
              "      <td>visa</td>\n",
              "      <td>debit</td>\n",
              "      <td>gmail.com</td>\n",
              "    </tr>\n",
              "    <tr>\n",
              "      <th>347817</th>\n",
              "      <td>C</td>\n",
              "      <td>mastercard</td>\n",
              "      <td>debit</td>\n",
              "      <td>NaN</td>\n",
              "    </tr>\n",
              "    <tr>\n",
              "      <th>347818</th>\n",
              "      <td>H</td>\n",
              "      <td>mastercard</td>\n",
              "      <td>credit</td>\n",
              "      <td>gmail.com</td>\n",
              "    </tr>\n",
              "    <tr>\n",
              "      <th>347819</th>\n",
              "      <td>W</td>\n",
              "      <td>visa</td>\n",
              "      <td>credit</td>\n",
              "      <td>gmail.com</td>\n",
              "    </tr>\n",
              "    <tr>\n",
              "      <th>347820</th>\n",
              "      <td>C</td>\n",
              "      <td>mastercard</td>\n",
              "      <td>debit</td>\n",
              "      <td>NaN</td>\n",
              "    </tr>\n",
              "    <tr>\n",
              "      <th>347821</th>\n",
              "      <td>W</td>\n",
              "      <td>visa</td>\n",
              "      <td>debit</td>\n",
              "      <td>yahoo.com</td>\n",
              "    </tr>\n",
              "    <tr>\n",
              "      <th>347822</th>\n",
              "      <td>W</td>\n",
              "      <td>visa</td>\n",
              "      <td>debit</td>\n",
              "      <td>gmail.com</td>\n",
              "    </tr>\n",
              "    <tr>\n",
              "      <th>347823</th>\n",
              "      <td>C</td>\n",
              "      <td>visa</td>\n",
              "      <td>debit</td>\n",
              "      <td>NaN</td>\n",
              "    </tr>\n",
              "    <tr>\n",
              "      <th>347824</th>\n",
              "      <td>W</td>\n",
              "      <td>visa</td>\n",
              "      <td>credit</td>\n",
              "      <td>gmail.com</td>\n",
              "    </tr>\n",
              "    <tr>\n",
              "      <th>347825</th>\n",
              "      <td>W</td>\n",
              "      <td>visa</td>\n",
              "      <td>debit</td>\n",
              "      <td>gmail.com</td>\n",
              "    </tr>\n",
              "    <tr>\n",
              "      <th>347826</th>\n",
              "      <td>R</td>\n",
              "      <td>american express</td>\n",
              "      <td>credit</td>\n",
              "      <td>gmail.com</td>\n",
              "    </tr>\n",
              "    <tr>\n",
              "      <th>347827</th>\n",
              "      <td>R</td>\n",
              "      <td>mastercard</td>\n",
              "      <td>credit</td>\n",
              "      <td>anonymous.com</td>\n",
              "    </tr>\n",
              "    <tr>\n",
              "      <th>347828</th>\n",
              "      <td>W</td>\n",
              "      <td>visa</td>\n",
              "      <td>credit</td>\n",
              "      <td>att.net</td>\n",
              "    </tr>\n",
              "    <tr>\n",
              "      <th>347829</th>\n",
              "      <td>W</td>\n",
              "      <td>visa</td>\n",
              "      <td>debit</td>\n",
              "      <td>ymail.com</td>\n",
              "    </tr>\n",
              "    <tr>\n",
              "      <th>347830</th>\n",
              "      <td>W</td>\n",
              "      <td>visa</td>\n",
              "      <td>credit</td>\n",
              "      <td>att.net</td>\n",
              "    </tr>\n",
              "    <tr>\n",
              "      <th>347831</th>\n",
              "      <td>W</td>\n",
              "      <td>visa</td>\n",
              "      <td>credit</td>\n",
              "      <td>gmail.com</td>\n",
              "    </tr>\n",
              "    <tr>\n",
              "      <th>347832</th>\n",
              "      <td>W</td>\n",
              "      <td>visa</td>\n",
              "      <td>debit</td>\n",
              "      <td>gmail.com</td>\n",
              "    </tr>\n",
              "    <tr>\n",
              "      <th>347833</th>\n",
              "      <td>R</td>\n",
              "      <td>visa</td>\n",
              "      <td>debit</td>\n",
              "      <td>yahoo.com</td>\n",
              "    </tr>\n",
              "    <tr>\n",
              "      <th>347834</th>\n",
              "      <td>W</td>\n",
              "      <td>visa</td>\n",
              "      <td>credit</td>\n",
              "      <td>hotmail.com</td>\n",
              "    </tr>\n",
              "    <tr>\n",
              "      <th>347835</th>\n",
              "      <td>W</td>\n",
              "      <td>mastercard</td>\n",
              "      <td>debit</td>\n",
              "      <td>NaN</td>\n",
              "    </tr>\n",
              "    <tr>\n",
              "      <th>347836</th>\n",
              "      <td>W</td>\n",
              "      <td>mastercard</td>\n",
              "      <td>debit</td>\n",
              "      <td>yahoo.com</td>\n",
              "    </tr>\n",
              "    <tr>\n",
              "      <th>347837</th>\n",
              "      <td>C</td>\n",
              "      <td>visa</td>\n",
              "      <td>credit</td>\n",
              "      <td>NaN</td>\n",
              "    </tr>\n",
              "    <tr>\n",
              "      <th>347838</th>\n",
              "      <td>C</td>\n",
              "      <td>visa</td>\n",
              "      <td>credit</td>\n",
              "      <td>NaN</td>\n",
              "    </tr>\n",
              "    <tr>\n",
              "      <th>347839</th>\n",
              "      <td>W</td>\n",
              "      <td>visa</td>\n",
              "      <td>debit</td>\n",
              "      <td>gmail.com</td>\n",
              "    </tr>\n",
              "    <tr>\n",
              "      <th>347840</th>\n",
              "      <td>W</td>\n",
              "      <td>visa</td>\n",
              "      <td>debit</td>\n",
              "      <td>hotmail.com</td>\n",
              "    </tr>\n",
              "    <tr>\n",
              "      <th>347841</th>\n",
              "      <td>C</td>\n",
              "      <td>visa</td>\n",
              "      <td>credit</td>\n",
              "      <td>NaN</td>\n",
              "    </tr>\n",
              "  </tbody>\n",
              "</table>\n",
              "<p>347842 rows × 4 columns</p>\n",
              "</div>"
            ],
            "text/plain": [
              "       ProductCD             card4   card6  P_emaildomain\n",
              "0              W          discover  credit            NaN\n",
              "1              W        mastercard  credit      gmail.com\n",
              "2              W              visa   debit    outlook.com\n",
              "3              W        mastercard   debit      yahoo.com\n",
              "4              H        mastercard  credit      gmail.com\n",
              "5              W              visa   debit      gmail.com\n",
              "6              W              visa   debit      yahoo.com\n",
              "7              W              visa   debit       mail.com\n",
              "8              H              visa   debit  anonymous.com\n",
              "9              W        mastercard   debit      yahoo.com\n",
              "10             C        mastercard  credit      gmail.com\n",
              "11             C        mastercard   debit    hotmail.com\n",
              "12             W              visa   debit    verizon.net\n",
              "13             W              visa   debit        aol.com\n",
              "14             W              visa   debit      yahoo.com\n",
              "15             W              visa   debit            NaN\n",
              "16             H              visa   debit        aol.com\n",
              "17             H        mastercard  credit      yahoo.com\n",
              "18             W              visa   debit      gmail.com\n",
              "19             W              visa   debit      gmail.com\n",
              "20             W        mastercard   debit      gmail.com\n",
              "21             W        mastercard   debit      gmail.com\n",
              "22             H              visa  credit      gmail.com\n",
              "23             W        mastercard   debit      gmail.com\n",
              "24             W              visa   debit      gmail.com\n",
              "25             W        mastercard   debit      gmail.com\n",
              "26             W              visa   debit         me.com\n",
              "27             W              visa   debit      yahoo.com\n",
              "28             W        mastercard   debit            NaN\n",
              "29             W              visa   debit      gmail.com\n",
              "...          ...               ...     ...            ...\n",
              "347812         W              visa  credit      yahoo.com\n",
              "347813         C              visa  credit            NaN\n",
              "347814         W        mastercard   debit      gmail.com\n",
              "347815         W        mastercard   debit      gmail.com\n",
              "347816         W              visa   debit      gmail.com\n",
              "347817         C        mastercard   debit            NaN\n",
              "347818         H        mastercard  credit      gmail.com\n",
              "347819         W              visa  credit      gmail.com\n",
              "347820         C        mastercard   debit            NaN\n",
              "347821         W              visa   debit      yahoo.com\n",
              "347822         W              visa   debit      gmail.com\n",
              "347823         C              visa   debit            NaN\n",
              "347824         W              visa  credit      gmail.com\n",
              "347825         W              visa   debit      gmail.com\n",
              "347826         R  american express  credit      gmail.com\n",
              "347827         R        mastercard  credit  anonymous.com\n",
              "347828         W              visa  credit        att.net\n",
              "347829         W              visa   debit      ymail.com\n",
              "347830         W              visa  credit        att.net\n",
              "347831         W              visa  credit      gmail.com\n",
              "347832         W              visa   debit      gmail.com\n",
              "347833         R              visa   debit      yahoo.com\n",
              "347834         W              visa  credit    hotmail.com\n",
              "347835         W        mastercard   debit            NaN\n",
              "347836         W        mastercard   debit      yahoo.com\n",
              "347837         C              visa  credit            NaN\n",
              "347838         C              visa  credit            NaN\n",
              "347839         W              visa   debit      gmail.com\n",
              "347840         W              visa   debit    hotmail.com\n",
              "347841         C              visa  credit            NaN\n",
              "\n",
              "[347842 rows x 4 columns]"
            ]
          },
          "metadata": {
            "tags": []
          },
          "execution_count": 42
        }
      ]
    },
    {
      "cell_type": "code",
      "metadata": {
        "id": "wZhbG9Bi94oI",
        "colab_type": "code",
        "colab": {}
      },
      "source": [
        "card4_data = pd.get_dummies(tff['card4'])\n",
        "card6_data = pd.get_dummies(tff['card6'])\n"
      ],
      "execution_count": 0,
      "outputs": []
    },
    {
      "cell_type": "code",
      "metadata": {
        "id": "U608RTQs-v8a",
        "colab_type": "code",
        "colab": {}
      },
      "source": [
        ""
      ],
      "execution_count": 0,
      "outputs": []
    }
  ]
}